{
 "cells": [
  {
   "cell_type": "code",
   "execution_count": 59,
   "metadata": {},
   "outputs": [],
   "source": [
    "import pandas as pd\n",
    "import numpy as np\n",
    "import matplotlib.pyplot as plt\n",
    "\n",
    "import seaborn as sns\n",
    "\n",
    "sns.set_theme(style = \"whitegrid\")"
   ]
  },
  {
   "cell_type": "markdown",
   "metadata": {},
   "source": [
    "* datetime - hourly date + timestamp \n",
    "* season -  1 = spring, 2 = summer, 3 = fall, 4 = winter \n",
    "* holiday - whether the day is considered a holiday\n",
    "* workingday - whether the day is neither a weekend nor holiday\n",
    "* weather - 1: Clear, Few clouds, Partly cloudy, Partly cloudy\n",
    "* 2: Mist + Cloudy, Mist + Broken clouds, Mist + Few clouds, Mist\n",
    "* 3: Light Snow, Light Rain + Thunderstorm + Scattered clouds, Light Rain + Scattered clouds\n",
    "* 4: Heavy Rain + Ice Pallets + Thunderstorm + Mist, Snow + Fog \n",
    "* temp - temperature in Celsius\n",
    "* atemp - \"feels like\" temperature in Celsius\n",
    "* humidity - relative humidity\n",
    "* windspeed - wind speed\n",
    "* casual - number of non-registered user rentals initiated\n",
    "* registered - number of registered user rentals initiated\n",
    "* count - number of total rentals"
   ]
  },
  {
   "cell_type": "code",
   "execution_count": 60,
   "metadata": {},
   "outputs": [],
   "source": [
    "SEASON_MAP = {\n",
    "    1: 'Primavera',\n",
    "    2: 'Verão',\n",
    "    3: 'Outono',\n",
    "    4: 'Inverno'\n",
    "}\n",
    "WEATHER_MAP = {\n",
    "    1: \"Limpo/Parcialmente Nublado\",\n",
    "    2: \"Neblina\",\n",
    "    3: \"Neve/Chuvoso\",\n",
    "    4: \"Chuva Forte/Neve + Névoa\",\n",
    "}"
   ]
  },
  {
   "cell_type": "code",
   "execution_count": 61,
   "metadata": {},
   "outputs": [],
   "source": [
    "bikes = pd.read_csv(\"data/train.csv\").astype({\"datetime\": \"datetime64[ns]\"})"
   ]
  },
  {
   "cell_type": "code",
   "execution_count": 62,
   "metadata": {},
   "outputs": [],
   "source": [
    "bikes[\"season\"] = bikes[\"season\"].apply(lambda x: SEASON_MAP[x])\n",
    "bikes[\"holiday\"] = bikes[\"holiday\"].apply(lambda x: \"Sim\" if x == 1 else \"Não\")\n",
    "bikes[\"workingday\"] = bikes[\"workingday\"].apply(lambda x: \"Sim\" if x == 1 else \"Não\")\n",
    "bikes[\"weather\"] = bikes[\"weather\"].apply(lambda x: WEATHER_MAP[x])"
   ]
  },
  {
   "cell_type": "code",
   "execution_count": 63,
   "metadata": {},
   "outputs": [],
   "source": [
    "def plot_count_boxplot_per_category(bikes: pd.DataFrame, col: str, save: bool = True, plot: bool = False) -> plt.Figure:\n",
    "    fig, ax = plt.subplots( figsize=(18, 8))\n",
    "    \n",
    "    Q2 = bikes[\"count\"].quantile(.5)\n",
    "    ax.axhline(Q2, color=\"k\", linestyle=\"-.\", lw=4)\n",
    "    \n",
    "    sns.boxplot(x=col, y=\"count\", data=bikes, ax=ax)\n",
    "    ax.legend([\"Mediana da Contagem\"], fontsize=20)\n",
    "\n",
    "    fig.suptitle(f\"Boxplot por categorias da coluna {col}\", weight='bold', fontsize=20)\n",
    "    \n",
    "    ax.xaxis.label.set_size(20)\n",
    "    ax.yaxis.label.set_size(20)\n",
    "    ax.set_ylabel('Contagem')\n",
    "    ax.xaxis.set_tick_params(labelsize=20)\n",
    "    ax.yaxis.set_tick_params(labelsize=20)\n",
    "    \n",
    "    if save:\n",
    "        fig.savefig(f\"eda_plots/count_boxplot_per_{col}.png\")\n",
    "\n",
    "    if not plot:\n",
    "        plt.close()\n",
    "        \n",
    "    return fig\n"
   ]
  },
  {
   "cell_type": "code",
   "execution_count": 64,
   "metadata": {},
   "outputs": [],
   "source": [
    "def plot_category_frequency(bikes: pd.DataFrame, col: str, save: bool = True, plot: bool = False) -> plt.Figure:\n",
    "    fig, ax = plt.subplots(figsize=(18, 8))\n",
    "    sns.countplot(x=col, data=bikes)\n",
    "    ax.set_xlabel(col)\n",
    "    ax.set_title(f\"Frequência de {col}\", weight='bold', fontsize=20)\n",
    "\n",
    "    ax.xaxis.label.set_size(20)\n",
    "    ax.yaxis.label.set_size(20)\n",
    "    ax.set_ylabel('Contagem')\n",
    "    ax.xaxis.set_tick_params(labelsize=20)\n",
    "    ax.yaxis.set_tick_params(labelsize=20)\n",
    "\n",
    "    if save:\n",
    "        fig.savefig(f\"eda_plots/frequency_{col}.png\")\n",
    "    if not plot:\n",
    "        plt.close()\n",
    "    return fig"
   ]
  },
  {
   "cell_type": "code",
   "execution_count": 65,
   "metadata": {},
   "outputs": [],
   "source": [
    "def plot_histogram(bikes: pd.DataFrame, col: str, save: bool = True, plot: bool = False) -> plt.Figure:\n",
    "    fig, ax = plt.subplots(figsize=(18, 8))\n",
    "    sns.histplot(bikes[col],  ax=ax, kde = True)\n",
    "    ax.set_xlabel(col)\n",
    "    ax.set_ylabel(\"Frequência\")\n",
    "    ax.set_title(f\"Histograma de {col}\", weight='bold', fontsize=20)\n",
    "\n",
    "    Q2 = bikes[col].quantile(.5)\n",
    "    mean = bikes[col].mean()\n",
    "\n",
    "    ax.axvline(Q2, color=\"r\", linestyle=\"-.\", lw=4)\n",
    "    ax.axvline(mean, color=\"k\", linestyle=\"-.\", lw=4)\n",
    "\n",
    "    ax.legend([\"EDK\", \"mediana\", \"média\"], fontsize=20)\n",
    "\n",
    "    ax.xaxis.label.set_size(20)\n",
    "    ax.yaxis.label.set_size(20)\n",
    "    ax.xaxis.set_tick_params(labelsize=20)\n",
    "    ax.yaxis.set_tick_params(labelsize=20)\n",
    "\n",
    "    if save:\n",
    "        fig.savefig(f\"eda_plots/histogram_{col}.png\")\n",
    "    if not plot:\n",
    "        plt.close()\n",
    "    return fig"
   ]
  },
  {
   "cell_type": "code",
   "execution_count": 66,
   "metadata": {},
   "outputs": [],
   "source": [
    "def create_bins(series: pd.Series, n_bins = 10) -> pd.Series:\n",
    "    return pd.cut(series, bins=np.linspace(series.min() - 1e-7, series.max(), n_bins + 1))"
   ]
  },
  {
   "cell_type": "code",
   "execution_count": 67,
   "metadata": {},
   "outputs": [],
   "source": [
    "def plot_count_boxplot_per_bin(\n",
    "    bikes: pd.DataFrame, col: str, n_bins=10, save=True, plot=False\n",
    "):\n",
    "    fig, ax = plt.subplots(figsize=(18, 8))\n",
    "    ax.set_title(f\"Boxplot do atributo count por partições de {col}\", weight='bold', fontsize=20)\n",
    "    \n",
    "    Q2 = bikes[\"count\"].quantile(0.5)\n",
    "    data = bikes.copy()\n",
    "\n",
    "    data[\"binned\"] = create_bins(data[col], n_bins=n_bins)\n",
    "    data[\"binned_left\"] = data[\"binned\"].apply(lambda x: x.left).astype(int)\n",
    "    data[\"binned_right\"] = data[\"binned\"].apply(lambda x: x.right).astype(int)\n",
    "    l = sorted(data[\"binned_left\"].unique())\n",
    "    r = sorted(data[\"binned_right\"].unique())\n",
    "    xlabels = [f\"{l[i]}-{r[i]}\" for i in range(len(l))]\n",
    "    \n",
    "    sns.boxplot(x=\"binned_left\", y=\"count\", data=data, ax=ax)\n",
    "    ax.axhline(Q2, color=\"k\", linestyle=\"--\")\n",
    "\n",
    "    ax.set_xticklabels(xlabels, fontsize=20)\n",
    "    ax.set_xlabel(f\"Particições de {col}\", fontsize=20)\n",
    "    ax.yaxis.label.set_size(20)\n",
    "    ax.set_ylabel('Contagem')\n",
    "    ax.yaxis.set_tick_params(labelsize=20)\n",
    "\n",
    "    if save:\n",
    "        fig.savefig(f\"eda_plots/count_boxplot_per_{col}_bin.png\")\n",
    "    \n",
    "    if not plot:\n",
    "        plt.close()\n",
    "\n",
    "    return fig"
   ]
  },
  {
   "cell_type": "code",
   "execution_count": 68,
   "metadata": {},
   "outputs": [],
   "source": [
    "plot_category_frequency(bikes, \"season\")\n",
    "plot_category_frequency(bikes, \"holiday\")\n",
    "plot_category_frequency(bikes, \"workingday\")\n",
    "plot_category_frequency(bikes, \"weather\");"
   ]
  },
  {
   "cell_type": "code",
   "execution_count": 69,
   "metadata": {},
   "outputs": [],
   "source": [
    "plot_histogram(bikes, \"temp\")\n",
    "plot_histogram(bikes, \"atemp\")\n",
    "plot_histogram(bikes, \"humidity\")\n",
    "plot_histogram(bikes, \"windspeed\")\n",
    "plot_histogram(bikes, \"count\");"
   ]
  },
  {
   "cell_type": "code",
   "execution_count": 70,
   "metadata": {},
   "outputs": [],
   "source": [
    "plot_count_boxplot_per_category(bikes, \"season\")\n",
    "plot_count_boxplot_per_category(bikes, \"holiday\")\n",
    "plot_count_boxplot_per_category(bikes, \"workingday\")\n",
    "plot_count_boxplot_per_category(bikes, \"weather\");"
   ]
  },
  {
   "cell_type": "code",
   "execution_count": 71,
   "metadata": {},
   "outputs": [],
   "source": [
    "plot_count_boxplot_per_bin(bikes, \"temp\", n_bins=10)\n",
    "plot_count_boxplot_per_bin(bikes, \"atemp\", n_bins=10)\n",
    "plot_count_boxplot_per_bin(bikes, \"humidity\", n_bins=10)\n",
    "plot_count_boxplot_per_bin(bikes, \"windspeed\", n_bins=10);"
   ]
  },
  {
   "cell_type": "code",
   "execution_count": null,
   "metadata": {},
   "outputs": [],
   "source": []
  }
 ],
 "metadata": {
  "interpreter": {
   "hash": "f54d609af22c32277eed463b9dbc07cfcdaa3bb144c4c5e4722de6fec7e81895"
  },
  "kernelspec": {
   "display_name": "Python 3.10.2 ('.venv': venv)",
   "language": "python",
   "name": "python3"
  },
  "language_info": {
   "codemirror_mode": {
    "name": "ipython",
    "version": 3
   },
   "file_extension": ".py",
   "mimetype": "text/x-python",
   "name": "python",
   "nbconvert_exporter": "python",
   "pygments_lexer": "ipython3",
   "version": "3.9.2"
  },
  "orig_nbformat": 4
 },
 "nbformat": 4,
 "nbformat_minor": 2
}
